{
 "cells": [
  {
   "cell_type": "markdown",
   "metadata": {
    "collapsed": true
   },
   "source": [
    "# Dataframe of the Neighborhoods in Toronto with coordinates"
   ]
  },
  {
   "cell_type": "code",
   "execution_count": 1,
   "metadata": {},
   "outputs": [],
   "source": [
    "from bs4 import BeautifulSoup\n",
    "import requests\n",
    "import pandas as pd\n"
   ]
  },
  {
   "cell_type": "code",
   "execution_count": 2,
   "metadata": {},
   "outputs": [],
   "source": [
    "url = \"https://en.wikipedia.org/wiki/List_of_postal_codes_of_Canada:_M\"\n",
    "source = requests.get(url).text\n",
    "Canada_data = BeautifulSoup(source, 'lxml')"
   ]
  },
  {
   "cell_type": "code",
   "execution_count": 3,
   "metadata": {},
   "outputs": [
    {
     "data": {
      "text/html": [
       "<div>\n",
       "<style scoped>\n",
       "    .dataframe tbody tr th:only-of-type {\n",
       "        vertical-align: middle;\n",
       "    }\n",
       "\n",
       "    .dataframe tbody tr th {\n",
       "        vertical-align: top;\n",
       "    }\n",
       "\n",
       "    .dataframe thead th {\n",
       "        text-align: right;\n",
       "    }\n",
       "</style>\n",
       "<table border=\"1\" class=\"dataframe\">\n",
       "  <thead>\n",
       "    <tr style=\"text-align: right;\">\n",
       "      <th></th>\n",
       "      <th>Postalcode</th>\n",
       "      <th>Borough</th>\n",
       "      <th>Neighborhood</th>\n",
       "    </tr>\n",
       "  </thead>\n",
       "  <tbody>\n",
       "    <tr>\n",
       "      <th>0</th>\n",
       "      <td>M1B</td>\n",
       "      <td>Scarborough</td>\n",
       "      <td>Rouge, Malvern</td>\n",
       "    </tr>\n",
       "    <tr>\n",
       "      <th>1</th>\n",
       "      <td>M1C</td>\n",
       "      <td>Scarborough</td>\n",
       "      <td>Highland Creek, Rouge Hill, Port Union</td>\n",
       "    </tr>\n",
       "    <tr>\n",
       "      <th>2</th>\n",
       "      <td>M1E</td>\n",
       "      <td>Scarborough</td>\n",
       "      <td>Guildwood, Morningside, West Hill</td>\n",
       "    </tr>\n",
       "    <tr>\n",
       "      <th>3</th>\n",
       "      <td>M1G</td>\n",
       "      <td>Scarborough</td>\n",
       "      <td>Woburn</td>\n",
       "    </tr>\n",
       "    <tr>\n",
       "      <th>4</th>\n",
       "      <td>M1H</td>\n",
       "      <td>Scarborough</td>\n",
       "      <td>Cedarbrae</td>\n",
       "    </tr>\n",
       "  </tbody>\n",
       "</table>\n",
       "</div>"
      ],
      "text/plain": [
       "  Postalcode      Borough                            Neighborhood\n",
       "0        M1B  Scarborough                          Rouge, Malvern\n",
       "1        M1C  Scarborough  Highland Creek, Rouge Hill, Port Union\n",
       "2        M1E  Scarborough       Guildwood, Morningside, West Hill\n",
       "3        M1G  Scarborough                                  Woburn\n",
       "4        M1H  Scarborough                               Cedarbrae"
      ]
     },
     "execution_count": 3,
     "metadata": {},
     "output_type": "execute_result"
    }
   ],
   "source": [
    "column_names = ['Postalcode','Borough','Neighborhood']\n",
    "toronto = pd.DataFrame(columns = column_names)\n",
    "\n",
    "# loop through to find postcode, borough, neighborhood \n",
    "content = Canada_data.find('div', class_='mw-parser-output')\n",
    "table = content.table.tbody\n",
    "postcode = 0\n",
    "borough = 0\n",
    "neighborhood = 0\n",
    "\n",
    "for tr in table.find_all('tr'):\n",
    "    i = 0\n",
    "    for td in tr.find_all('td'):\n",
    "        if i == 0:\n",
    "            postcode = td.text\n",
    "            i = i + 1\n",
    "        elif i == 1:\n",
    "            borough = td.text\n",
    "            i = i + 1\n",
    "        elif i == 2: \n",
    "            neighborhood = td.text.strip('\\n').replace(']','')\n",
    "    toronto = toronto.append({'Postalcode': postcode,'Borough': borough,'Neighborhood': neighborhood},ignore_index=True)\n",
    "\n",
    "# clean dataframe \n",
    "toronto = toronto[toronto.Borough!='Not assigned']\n",
    "toronto = toronto[toronto.Borough!= 0]\n",
    "toronto.reset_index(drop = True, inplace = True)\n",
    "i = 0\n",
    "for i in range(0,toronto.shape[0]):\n",
    "    if toronto.iloc[i][2] == 'Not assigned':\n",
    "        toronto.iloc[i][2] = toronto.iloc[i][1]\n",
    "        i = i+1\n",
    "                                 \n",
    "df = toronto.groupby(['Postalcode','Borough'])['Neighborhood'].apply(', '.join).reset_index()\n",
    "df.head()"
   ]
  },
  {
   "cell_type": "code",
   "execution_count": 4,
   "metadata": {},
   "outputs": [],
   "source": [
    "df = df.dropna()\n",
    "empty = 'Not assigned'\n",
    "df = df[(df.Postalcode != empty ) & (df.Borough != empty) & (df.Neighborhood != empty)]"
   ]
  },
  {
   "cell_type": "code",
   "execution_count": 5,
   "metadata": {},
   "outputs": [],
   "source": [
    "def neighborhood_list(grouped):    \n",
    "    return ', '.join(sorted(grouped['Neighborhood'].tolist()))\n",
    "                    \n",
    "grp = df.groupby(['Postalcode', 'Borough'])\n",
    "df = grp.apply(neighborhood_list).reset_index(name='Neighborhood')"
   ]
  },
  {
   "cell_type": "code",
   "execution_count": 6,
   "metadata": {},
   "outputs": [
    {
     "name": "stdout",
     "output_type": "stream",
     "text": [
      "(103, 3)\n"
     ]
    },
    {
     "data": {
      "text/html": [
       "<div>\n",
       "<style scoped>\n",
       "    .dataframe tbody tr th:only-of-type {\n",
       "        vertical-align: middle;\n",
       "    }\n",
       "\n",
       "    .dataframe tbody tr th {\n",
       "        vertical-align: top;\n",
       "    }\n",
       "\n",
       "    .dataframe thead th {\n",
       "        text-align: right;\n",
       "    }\n",
       "</style>\n",
       "<table border=\"1\" class=\"dataframe\">\n",
       "  <thead>\n",
       "    <tr style=\"text-align: right;\">\n",
       "      <th></th>\n",
       "      <th>Postalcode</th>\n",
       "      <th>Borough</th>\n",
       "      <th>Neighborhood</th>\n",
       "    </tr>\n",
       "  </thead>\n",
       "  <tbody>\n",
       "    <tr>\n",
       "      <th>0</th>\n",
       "      <td>M1B</td>\n",
       "      <td>Scarborough</td>\n",
       "      <td>Rouge, Malvern</td>\n",
       "    </tr>\n",
       "    <tr>\n",
       "      <th>1</th>\n",
       "      <td>M1C</td>\n",
       "      <td>Scarborough</td>\n",
       "      <td>Highland Creek, Rouge Hill, Port Union</td>\n",
       "    </tr>\n",
       "    <tr>\n",
       "      <th>2</th>\n",
       "      <td>M1E</td>\n",
       "      <td>Scarborough</td>\n",
       "      <td>Guildwood, Morningside, West Hill</td>\n",
       "    </tr>\n",
       "    <tr>\n",
       "      <th>3</th>\n",
       "      <td>M1G</td>\n",
       "      <td>Scarborough</td>\n",
       "      <td>Woburn</td>\n",
       "    </tr>\n",
       "    <tr>\n",
       "      <th>4</th>\n",
       "      <td>M1H</td>\n",
       "      <td>Scarborough</td>\n",
       "      <td>Cedarbrae</td>\n",
       "    </tr>\n",
       "  </tbody>\n",
       "</table>\n",
       "</div>"
      ],
      "text/plain": [
       "  Postalcode      Borough                            Neighborhood\n",
       "0        M1B  Scarborough                          Rouge, Malvern\n",
       "1        M1C  Scarborough  Highland Creek, Rouge Hill, Port Union\n",
       "2        M1E  Scarborough       Guildwood, Morningside, West Hill\n",
       "3        M1G  Scarborough                                  Woburn\n",
       "4        M1H  Scarborough                               Cedarbrae"
      ]
     },
     "execution_count": 6,
     "metadata": {},
     "output_type": "execute_result"
    }
   ],
   "source": [
    "\n",
    "print(df.shape)\n",
    "df.head()"
   ]
  },
  {
   "cell_type": "code",
   "execution_count": 7,
   "metadata": {},
   "outputs": [
    {
     "name": "stdout",
     "output_type": "stream",
     "text": [
      "Solving environment: done\n",
      "\n",
      "## Package Plan ##\n",
      "\n",
      "  environment location: /opt/conda/envs/DSX-Python35\n",
      "\n",
      "  added / updated specs: \n",
      "    - geocoder\n",
      "\n",
      "\n",
      "The following packages will be downloaded:\n",
      "\n",
      "    package                    |            build\n",
      "    ---------------------------|-----------------\n",
      "    ratelim-0.1.6              |           py35_0           5 KB  conda-forge\n",
      "    ca-certificates-2019.3.9   |       hecc5488_0         146 KB  conda-forge\n",
      "    geocoder-1.38.1            |             py_0          52 KB  conda-forge\n",
      "    openssl-1.0.2r             |       h14c3975_0         3.1 MB  conda-forge\n",
      "    orderedset-2.0             |           py35_0         685 KB  conda-forge\n",
      "    certifi-2018.8.24          |        py35_1001         139 KB  conda-forge\n",
      "    ------------------------------------------------------------\n",
      "                                           Total:         4.1 MB\n",
      "\n",
      "The following NEW packages will be INSTALLED:\n",
      "\n",
      "    geocoder:        1.38.1-py_0       conda-forge\n",
      "    orderedset:      2.0-py35_0        conda-forge\n",
      "    ratelim:         0.1.6-py35_0      conda-forge\n",
      "\n",
      "The following packages will be UPDATED:\n",
      "\n",
      "    ca-certificates: 2019.1.23-0                   --> 2019.3.9-hecc5488_0 conda-forge\n",
      "    certifi:         2018.8.24-py35_1              --> 2018.8.24-py35_1001 conda-forge\n",
      "    openssl:         1.0.2p-h14c3975_0             --> 1.0.2r-h14c3975_0   conda-forge\n",
      "\n",
      "\n",
      "Downloading and Extracting Packages\n",
      "ratelim-0.1.6        | 5 KB      | ##################################### | 100% \n",
      "ca-certificates-2019 | 146 KB    | ##################################### | 100% \n",
      "geocoder-1.38.1      | 52 KB     | ##################################### | 100% \n",
      "openssl-1.0.2r       | 3.1 MB    | ##################################### | 100% \n",
      "orderedset-2.0       | 685 KB    | ##################################### | 100% \n",
      "certifi-2018.8.24    | 139 KB    | ##################################### | 100% \n",
      "Preparing transaction: done\n",
      "Verifying transaction: done\n",
      "Executing transaction: done\n"
     ]
    }
   ],
   "source": [
    "\n",
    "import numpy as np\n",
    "import pandas as pd\n",
    "!conda install -c conda-forge geocoder --yes\n",
    "import geocoder"
   ]
  },
  {
   "cell_type": "code",
   "execution_count": 8,
   "metadata": {},
   "outputs": [
    {
     "data": {
      "text/plain": [
       "[43.70976500000006, -79.36390090899994]"
      ]
     },
     "execution_count": 8,
     "metadata": {},
     "output_type": "execute_result"
    }
   ],
   "source": [
    "def get_latlng(postal_code):\n",
    "    # initialize your variable to None\n",
    "    lat_lng_coords = None\n",
    "    # loop until you get the coordinates\n",
    "    while(lat_lng_coords is None):\n",
    "        g = geocoder.arcgis('{}, Toronto, Ontario'.format(postal_code))\n",
    "        lat_lng_coords = g.latlng\n",
    "    return lat_lng_coords\n",
    "    \n",
    "get_latlng('M4G')"
   ]
  },
  {
   "cell_type": "code",
   "execution_count": 11,
   "metadata": {},
   "outputs": [],
   "source": [
    "postal_codes = df['Postalcode']    \n",
    "coords = [ get_latlng(postal_code) for postal_code in postal_codes.tolist() ]"
   ]
  },
  {
   "cell_type": "code",
   "execution_count": 12,
   "metadata": {},
   "outputs": [],
   "source": [
    "df_coords = pd.DataFrame(coords, columns=['Latitude', 'Longitude'])\n",
    "df['Latitude'] = df_coords['Latitude']\n",
    "df['Longitude'] = df_coords['Longitude']"
   ]
  },
  {
   "cell_type": "code",
   "execution_count": 13,
   "metadata": {},
   "outputs": [
    {
     "data": {
      "text/html": [
       "<div>\n",
       "<style scoped>\n",
       "    .dataframe tbody tr th:only-of-type {\n",
       "        vertical-align: middle;\n",
       "    }\n",
       "\n",
       "    .dataframe tbody tr th {\n",
       "        vertical-align: top;\n",
       "    }\n",
       "\n",
       "    .dataframe thead th {\n",
       "        text-align: right;\n",
       "    }\n",
       "</style>\n",
       "<table border=\"1\" class=\"dataframe\">\n",
       "  <thead>\n",
       "    <tr style=\"text-align: right;\">\n",
       "      <th></th>\n",
       "      <th>Postalcode</th>\n",
       "      <th>Borough</th>\n",
       "      <th>Neighborhood</th>\n",
       "      <th>Latitude</th>\n",
       "      <th>Longitude</th>\n",
       "    </tr>\n",
       "  </thead>\n",
       "  <tbody>\n",
       "    <tr>\n",
       "      <th>0</th>\n",
       "      <td>M1B</td>\n",
       "      <td>Scarborough</td>\n",
       "      <td>Rouge, Malvern</td>\n",
       "      <td>43.811525</td>\n",
       "      <td>-79.195517</td>\n",
       "    </tr>\n",
       "    <tr>\n",
       "      <th>1</th>\n",
       "      <td>M1C</td>\n",
       "      <td>Scarborough</td>\n",
       "      <td>Highland Creek, Rouge Hill, Port Union</td>\n",
       "      <td>43.785730</td>\n",
       "      <td>-79.158750</td>\n",
       "    </tr>\n",
       "    <tr>\n",
       "      <th>2</th>\n",
       "      <td>M1E</td>\n",
       "      <td>Scarborough</td>\n",
       "      <td>Guildwood, Morningside, West Hill</td>\n",
       "      <td>43.765690</td>\n",
       "      <td>-79.175256</td>\n",
       "    </tr>\n",
       "    <tr>\n",
       "      <th>3</th>\n",
       "      <td>M1G</td>\n",
       "      <td>Scarborough</td>\n",
       "      <td>Woburn</td>\n",
       "      <td>43.768359</td>\n",
       "      <td>-79.217590</td>\n",
       "    </tr>\n",
       "    <tr>\n",
       "      <th>4</th>\n",
       "      <td>M1H</td>\n",
       "      <td>Scarborough</td>\n",
       "      <td>Cedarbrae</td>\n",
       "      <td>43.769688</td>\n",
       "      <td>-79.239440</td>\n",
       "    </tr>\n",
       "    <tr>\n",
       "      <th>5</th>\n",
       "      <td>M1J</td>\n",
       "      <td>Scarborough</td>\n",
       "      <td>Scarborough Village</td>\n",
       "      <td>43.743125</td>\n",
       "      <td>-79.231750</td>\n",
       "    </tr>\n",
       "    <tr>\n",
       "      <th>6</th>\n",
       "      <td>M1K</td>\n",
       "      <td>Scarborough</td>\n",
       "      <td>East Birchmount Park, Ionview, Kennedy Park</td>\n",
       "      <td>43.726245</td>\n",
       "      <td>-79.263670</td>\n",
       "    </tr>\n",
       "    <tr>\n",
       "      <th>7</th>\n",
       "      <td>M1L</td>\n",
       "      <td>Scarborough</td>\n",
       "      <td>Clairlea, Golden Mile, Oakridge</td>\n",
       "      <td>43.713133</td>\n",
       "      <td>-79.285055</td>\n",
       "    </tr>\n",
       "    <tr>\n",
       "      <th>8</th>\n",
       "      <td>M1M</td>\n",
       "      <td>Scarborough</td>\n",
       "      <td>Cliffcrest, Cliffside, Scarborough Village West</td>\n",
       "      <td>43.723575</td>\n",
       "      <td>-79.234976</td>\n",
       "    </tr>\n",
       "    <tr>\n",
       "      <th>9</th>\n",
       "      <td>M1N</td>\n",
       "      <td>Scarborough</td>\n",
       "      <td>Birch Cliff, Cliffside West</td>\n",
       "      <td>43.696665</td>\n",
       "      <td>-79.260163</td>\n",
       "    </tr>\n",
       "  </tbody>\n",
       "</table>\n",
       "</div>"
      ],
      "text/plain": [
       "  Postalcode      Borough                                     Neighborhood  \\\n",
       "0        M1B  Scarborough                                   Rouge, Malvern   \n",
       "1        M1C  Scarborough           Highland Creek, Rouge Hill, Port Union   \n",
       "2        M1E  Scarborough                Guildwood, Morningside, West Hill   \n",
       "3        M1G  Scarborough                                           Woburn   \n",
       "4        M1H  Scarborough                                        Cedarbrae   \n",
       "5        M1J  Scarborough                              Scarborough Village   \n",
       "6        M1K  Scarborough      East Birchmount Park, Ionview, Kennedy Park   \n",
       "7        M1L  Scarborough                  Clairlea, Golden Mile, Oakridge   \n",
       "8        M1M  Scarborough  Cliffcrest, Cliffside, Scarborough Village West   \n",
       "9        M1N  Scarborough                      Birch Cliff, Cliffside West   \n",
       "\n",
       "    Latitude  Longitude  \n",
       "0  43.811525 -79.195517  \n",
       "1  43.785730 -79.158750  \n",
       "2  43.765690 -79.175256  \n",
       "3  43.768359 -79.217590  \n",
       "4  43.769688 -79.239440  \n",
       "5  43.743125 -79.231750  \n",
       "6  43.726245 -79.263670  \n",
       "7  43.713133 -79.285055  \n",
       "8  43.723575 -79.234976  \n",
       "9  43.696665 -79.260163  "
      ]
     },
     "execution_count": 13,
     "metadata": {},
     "output_type": "execute_result"
    }
   ],
   "source": [
    "\n",
    "df.head(10)"
   ]
  },
  {
   "cell_type": "code",
   "execution_count": 14,
   "metadata": {},
   "outputs": [
    {
     "name": "stdout",
     "output_type": "stream",
     "text": [
      "Solving environment: done\n",
      "\n",
      "## Package Plan ##\n",
      "\n",
      "  environment location: /opt/conda/envs/DSX-Python35\n",
      "\n",
      "  added / updated specs: \n",
      "    - geopy\n",
      "\n",
      "\n",
      "The following packages will be downloaded:\n",
      "\n",
      "    package                    |            build\n",
      "    ---------------------------|-----------------\n",
      "    geopy-1.19.0               |             py_0          53 KB  conda-forge\n",
      "    geographiclib-1.49         |             py_0          32 KB  conda-forge\n",
      "    ------------------------------------------------------------\n",
      "                                           Total:          85 KB\n",
      "\n",
      "The following NEW packages will be INSTALLED:\n",
      "\n",
      "    geographiclib: 1.49-py_0   conda-forge\n",
      "    geopy:         1.19.0-py_0 conda-forge\n",
      "\n",
      "\n",
      "Downloading and Extracting Packages\n",
      "geopy-1.19.0         | 53 KB     | ##################################### | 100% \n",
      "geographiclib-1.49   | 32 KB     | ##################################### | 100% \n",
      "Preparing transaction: done\n",
      "Verifying transaction: done\n",
      "Executing transaction: done\n",
      "Solving environment: done\n",
      "\n",
      "## Package Plan ##\n",
      "\n",
      "  environment location: /opt/conda/envs/DSX-Python35\n",
      "\n",
      "  added / updated specs: \n",
      "    - folium=0.5.0\n",
      "\n",
      "\n",
      "The following packages will be downloaded:\n",
      "\n",
      "    package                    |            build\n",
      "    ---------------------------|-----------------\n",
      "    altair-2.2.2               |           py35_1         462 KB  conda-forge\n",
      "    vincent-0.4.4              |             py_1          28 KB  conda-forge\n",
      "    branca-0.3.1               |             py_0          25 KB  conda-forge\n",
      "    folium-0.5.0               |             py_0          45 KB  conda-forge\n",
      "    ------------------------------------------------------------\n",
      "                                           Total:         560 KB\n",
      "\n",
      "The following NEW packages will be INSTALLED:\n",
      "\n",
      "    altair:  2.2.2-py35_1 conda-forge\n",
      "    branca:  0.3.1-py_0   conda-forge\n",
      "    folium:  0.5.0-py_0   conda-forge\n",
      "    vincent: 0.4.4-py_1   conda-forge\n",
      "\n",
      "\n",
      "Downloading and Extracting Packages\n",
      "altair-2.2.2         | 462 KB    | ##################################### | 100% \n",
      "vincent-0.4.4        | 28 KB     | ##################################### | 100% \n",
      "branca-0.3.1         | 25 KB     | ##################################### | 100% \n",
      "folium-0.5.0         | 45 KB     | ##################################### | 100% \n",
      "Preparing transaction: done\n",
      "Verifying transaction: done\n",
      "Executing transaction: done\n"
     ]
    }
   ],
   "source": [
    "import requests\n",
    "from bs4 import BeautifulSoup as bs\n",
    "import re\n",
    "\n",
    "import numpy as np # library to handle data in a vectorized manner\n",
    "import pandas as pd # library for data analsysis\n",
    "pd.set_option('display.max_columns', None)\n",
    "pd.set_option('display.max_rows', None)\n",
    "\n",
    "import json # library to handle JSON files\n",
    "\n",
    "!conda install -c conda-forge geopy --yes # uncomment this line if you haven't completed the Foursquare API lab\n",
    "from geopy.geocoders import Nominatim # convert an address into latitude and longitude values\n",
    "\n",
    "import requests # library to handle requests\n",
    "from pandas.io.json import json_normalize # tranform JSON file into a pandas dataframe\n",
    "\n",
    "# Matplotlib and associated plotting modules\n",
    "import matplotlib.cm as cm\n",
    "import matplotlib.colors as colors\n",
    "\n",
    "# import k-means from clustering stage\n",
    "from sklearn.cluster import KMeans\n",
    "\n",
    "!conda install -c conda-forge folium=0.5.0 --yes # uncomment this line if you haven't completed the Foursquare API lab\n",
    "import folium # map rendering library"
   ]
  },
  {
   "cell_type": "code",
   "execution_count": 15,
   "metadata": {},
   "outputs": [
    {
     "name": "stderr",
     "output_type": "stream",
     "text": [
      "/opt/conda/envs/DSX-Python35/lib/python3.5/site-packages/ipykernel/__main__.py:4: DeprecationWarning: Using Nominatim with the default \"geopy/1.19.0\" `user_agent` is strongly discouraged, as it violates Nominatim's ToS https://operations.osmfoundation.org/policies/nominatim/ and may possibly cause 403 and 429 HTTP errors. Please specify a custom `user_agent` with `Nominatim(user_agent=\"my-application\")` or by overriding the default `user_agent`: `geopy.geocoders.options.default_user_agent = \"my-application\"`. In geopy 2.0 this will become an exception.\n"
     ]
    },
    {
     "name": "stdout",
     "output_type": "stream",
     "text": [
      "The geograpical coordinate of Toronto are 43.653963, -79.387207.\n"
     ]
    },
    {
     "data": {
      "text/html": [
       "<div style=\"width:100%;\"><div style=\"position:relative;width:100%;height:0;padding-bottom:60%;\"><iframe src=\"data:text/html;charset=utf-8;base64,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\" style=\"position:absolute;width:100%;height:100%;left:0;top:0;border:none !important;\" allowfullscreen webkitallowfullscreen mozallowfullscreen></iframe></div></div>"
      ],
      "text/plain": [
       "<folium.folium.Map at 0x7f3362151b70>"
      ]
     },
     "execution_count": 15,
     "metadata": {},
     "output_type": "execute_result"
    }
   ],
   "source": [
    "\n",
    "address = 'Toronto'\n",
    "\n",
    "geolocator = Nominatim()\n",
    "location = geolocator.geocode(address)\n",
    "latitude = location.latitude\n",
    "longitude = location.longitude\n",
    "print('The geograpical coordinate of Toronto are {}, {}.'.format(latitude, longitude))\n",
    "\n",
    "# create map of New York using latitude and longitude values\n",
    "map_toronto = folium.Map(location=[latitude, longitude], zoom_start=10)\n",
    "\n",
    "# add markers to map\n",
    "for lat, lng, borough, neighborhood in zip(df['Latitude'], df['Longitude'], df['Borough'], df['Neighborhood']):\n",
    "    label = '{}, {}'.format(neighborhood, borough)\n",
    "    label = folium.Popup(label, parse_html=True)\n",
    "    folium.CircleMarker(\n",
    "        [lat, lng],\n",
    "        radius=5,\n",
    "        popup=label,\n",
    "        color='blue',\n",
    "        fill=True,\n",
    "        fill_color='#3186cc',\n",
    "        fill_opacity=0.7,\n",
    "        parse_html=False).add_to(map_toronto)  \n",
    "    \n",
    "map_toronto"
   ]
  },
  {
   "cell_type": "code",
   "execution_count": 16,
   "metadata": {},
   "outputs": [
    {
     "name": "stderr",
     "output_type": "stream",
     "text": [
      "/opt/conda/envs/DSX-Python35/lib/python3.5/site-packages/ipykernel/__main__.py:4: DeprecationWarning: Using Nominatim with the default \"geopy/1.19.0\" `user_agent` is strongly discouraged, as it violates Nominatim's ToS https://operations.osmfoundation.org/policies/nominatim/ and may possibly cause 403 and 429 HTTP errors. Please specify a custom `user_agent` with `Nominatim(user_agent=\"my-application\")` or by overriding the default `user_agent`: `geopy.geocoders.options.default_user_agent = \"my-application\"`. In geopy 2.0 this will become an exception.\n"
     ]
    },
    {
     "name": "stdout",
     "output_type": "stream",
     "text": [
      "The geograpical coordinate of Scarborough are 43.773077, -79.257774.\n"
     ]
    }
   ],
   "source": [
    "scarborough_data = df[df['Borough'] == 'Scarborough'].reset_index(drop=True)\n",
    "address1 = 'Scarborough,Toronto'\n",
    "\n",
    "geolocator1 = Nominatim()\n",
    "location1 = geolocator1.geocode(address1)\n",
    "latitude1 = location1.latitude\n",
    "longitude1 = location1.longitude\n",
    "print('The geograpical coordinate of Scarborough are {}, {}.'.format(latitude1, longitude1))"
   ]
  },
  {
   "cell_type": "code",
   "execution_count": 17,
   "metadata": {},
   "outputs": [
    {
     "data": {
      "text/html": [
       "<div style=\"width:100%;\"><div style=\"position:relative;width:100%;height:0;padding-bottom:60%;\"><iframe src=\"data:text/html;charset=utf-8;base64,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\" style=\"position:absolute;width:100%;height:100%;left:0;top:0;border:none !important;\" allowfullscreen webkitallowfullscreen mozallowfullscreen></iframe></div></div>"
      ],
      "text/plain": [
       "<folium.folium.Map at 0x7f3361fc5470>"
      ]
     },
     "execution_count": 17,
     "metadata": {},
     "output_type": "execute_result"
    }
   ],
   "source": [
    "map_scarb = folium.Map(location=[latitude1, longitude1], zoom_start=11)\n",
    "\n",
    "# add markers to map\n",
    "for lat, lng, label in zip(scarborough_data['Latitude'], scarborough_data['Longitude'], scarborough_data['Neighborhood']):\n",
    "    label = folium.Popup(label, parse_html=True)\n",
    "    folium.CircleMarker(\n",
    "        [lat, lng],\n",
    "        radius=5,\n",
    "        popup=label,\n",
    "        color='blue',\n",
    "        fill=True,\n",
    "        fill_color='#3186cc',\n",
    "        fill_opacity=0.7,\n",
    "        parse_html=False).add_to(map_scarb)  \n",
    "    \n",
    "map_scarb"
   ]
  },
  {
   "cell_type": "code",
   "execution_count": 24,
   "metadata": {},
   "outputs": [
    {
     "name": "stdout",
     "output_type": "stream",
     "text": [
      "Latitude and longitude values of Rouge, Malvern are 43.811525000000074, -79.19551721399995.\n"
     ]
    }
   ],
   "source": [
    "neighborhood_latitude = scarborough_data.loc[0, 'Latitude'] # neighborhood latitude value\n",
    "neighborhood_longitude = scarborough_data.loc[0, 'Longitude'] # neighborhood longitude value\n",
    "\n",
    "neighborhood_name = scarborough_data.loc[0, 'Neighborhood'] # neighborhood name\n",
    "\n",
    "print('Latitude and longitude values of {} are {}, {}.'.format(neighborhood_name, \n",
    "                                                               neighborhood_latitude, \n",
    "                                                               neighborhood_longitude))\n",
    "\n",
    "LIMIT = 100\n",
    "radius = 500\n",
    "VERSION = '20180605'\n",
    "CLIENT_ID = \"IVLTISY3A1TRTL4IXKARVKP4IFIADEPRJZMMK1LJZPKNEYY5\"\n",
    "CLIENT_SECRET = \"T10QGN2GGJEI455OCV1CVJKHZJBSH4HJUQMTWX4GJ2VL43HZ\"\n",
    "url = 'https://api.foursquare.com/v2/venues/explore?client_id={}&client_secret={}&ll={},{}&v={}&radius={}&limit={}'.format(CLIENT_ID, CLIENT_SECRET, latitude1, longitude1, VERSION, radius, LIMIT)"
   ]
  },
  {
   "cell_type": "code",
   "execution_count": 25,
   "metadata": {},
   "outputs": [],
   "source": [
    "def get_category_type(row):\n",
    "    try:\n",
    "        categories_list = row['categories']\n",
    "    except:\n",
    "        categories_list = row['venue.categories']\n",
    "        \n",
    "    if len(categories_list) == 0:\n",
    "        return None\n",
    "    else:\n",
    "        return categories_list[0]['name']"
   ]
  },
  {
   "cell_type": "code",
   "execution_count": 26,
   "metadata": {},
   "outputs": [
    {
     "data": {
      "text/html": [
       "<div>\n",
       "<style scoped>\n",
       "    .dataframe tbody tr th:only-of-type {\n",
       "        vertical-align: middle;\n",
       "    }\n",
       "\n",
       "    .dataframe tbody tr th {\n",
       "        vertical-align: top;\n",
       "    }\n",
       "\n",
       "    .dataframe thead th {\n",
       "        text-align: right;\n",
       "    }\n",
       "</style>\n",
       "<table border=\"1\" class=\"dataframe\">\n",
       "  <thead>\n",
       "    <tr style=\"text-align: right;\">\n",
       "      <th></th>\n",
       "      <th>name</th>\n",
       "      <th>categories</th>\n",
       "      <th>lat</th>\n",
       "      <th>lng</th>\n",
       "    </tr>\n",
       "  </thead>\n",
       "  <tbody>\n",
       "    <tr>\n",
       "      <th>0</th>\n",
       "      <td>Disney Store</td>\n",
       "      <td>Toy / Game Store</td>\n",
       "      <td>43.775537</td>\n",
       "      <td>-79.256833</td>\n",
       "    </tr>\n",
       "    <tr>\n",
       "      <th>1</th>\n",
       "      <td>SEPHORA</td>\n",
       "      <td>Cosmetics Shop</td>\n",
       "      <td>43.775017</td>\n",
       "      <td>-79.258109</td>\n",
       "    </tr>\n",
       "    <tr>\n",
       "      <th>2</th>\n",
       "      <td>American Eagle Outfitters</td>\n",
       "      <td>Clothing Store</td>\n",
       "      <td>43.775908</td>\n",
       "      <td>-79.258352</td>\n",
       "    </tr>\n",
       "    <tr>\n",
       "      <th>3</th>\n",
       "      <td>Tommy Hilfiger Company Store</td>\n",
       "      <td>Clothing Store</td>\n",
       "      <td>43.776015</td>\n",
       "      <td>-79.257369</td>\n",
       "    </tr>\n",
       "    <tr>\n",
       "      <th>4</th>\n",
       "      <td>Coliseum Scarborough Cinemas</td>\n",
       "      <td>Movie Theater</td>\n",
       "      <td>43.775995</td>\n",
       "      <td>-79.255649</td>\n",
       "    </tr>\n",
       "    <tr>\n",
       "      <th>5</th>\n",
       "      <td>Chipotle Mexican Grill</td>\n",
       "      <td>Mexican Restaurant</td>\n",
       "      <td>43.776410</td>\n",
       "      <td>-79.258069</td>\n",
       "    </tr>\n",
       "    <tr>\n",
       "      <th>6</th>\n",
       "      <td>Jimmy The Greek</td>\n",
       "      <td>Greek Restaurant</td>\n",
       "      <td>43.775112</td>\n",
       "      <td>-79.257119</td>\n",
       "    </tr>\n",
       "    <tr>\n",
       "      <th>7</th>\n",
       "      <td>St. Andrews Fish &amp; Chips</td>\n",
       "      <td>Fish &amp; Chips Shop</td>\n",
       "      <td>43.771865</td>\n",
       "      <td>-79.252645</td>\n",
       "    </tr>\n",
       "    <tr>\n",
       "      <th>8</th>\n",
       "      <td>DAVIDsTEA</td>\n",
       "      <td>Tea Room</td>\n",
       "      <td>43.776613</td>\n",
       "      <td>-79.258516</td>\n",
       "    </tr>\n",
       "    <tr>\n",
       "      <th>9</th>\n",
       "      <td>Scarborough Town Centre</td>\n",
       "      <td>Shopping Mall</td>\n",
       "      <td>43.775237</td>\n",
       "      <td>-79.257363</td>\n",
       "    </tr>\n",
       "    <tr>\n",
       "      <th>10</th>\n",
       "      <td>Tim Hortons</td>\n",
       "      <td>Coffee Shop</td>\n",
       "      <td>43.769936</td>\n",
       "      <td>-79.260368</td>\n",
       "    </tr>\n",
       "    <tr>\n",
       "      <th>11</th>\n",
       "      <td>Hot Topic</td>\n",
       "      <td>Clothing Store</td>\n",
       "      <td>43.775450</td>\n",
       "      <td>-79.257929</td>\n",
       "    </tr>\n",
       "  </tbody>\n",
       "</table>\n",
       "</div>"
      ],
      "text/plain": [
       "                            name          categories        lat        lng\n",
       "0                   Disney Store    Toy / Game Store  43.775537 -79.256833\n",
       "1                        SEPHORA      Cosmetics Shop  43.775017 -79.258109\n",
       "2      American Eagle Outfitters      Clothing Store  43.775908 -79.258352\n",
       "3   Tommy Hilfiger Company Store      Clothing Store  43.776015 -79.257369\n",
       "4   Coliseum Scarborough Cinemas       Movie Theater  43.775995 -79.255649\n",
       "5         Chipotle Mexican Grill  Mexican Restaurant  43.776410 -79.258069\n",
       "6                Jimmy The Greek    Greek Restaurant  43.775112 -79.257119\n",
       "7       St. Andrews Fish & Chips   Fish & Chips Shop  43.771865 -79.252645\n",
       "8                      DAVIDsTEA            Tea Room  43.776613 -79.258516\n",
       "9        Scarborough Town Centre       Shopping Mall  43.775237 -79.257363\n",
       "10                   Tim Hortons         Coffee Shop  43.769936 -79.260368\n",
       "11                     Hot Topic      Clothing Store  43.775450 -79.257929"
      ]
     },
     "execution_count": 26,
     "metadata": {},
     "output_type": "execute_result"
    }
   ],
   "source": [
    "results = requests.get(url).json()\n",
    "venues = results['response']['groups'][0]['items']\n",
    "    \n",
    "nearby_venues = json_normalize(venues) # flatten JSON\n",
    "\n",
    "# filter columns\n",
    "filtered_columns = ['venue.name', 'venue.categories', 'venue.location.lat', 'venue.location.lng']\n",
    "nearby_venues =nearby_venues.loc[:, filtered_columns]\n",
    "\n",
    "# filter the category for each row\n",
    "nearby_venues['venue.categories'] = nearby_venues.apply(get_category_type, axis=1)\n",
    "\n",
    "# clean columns\n",
    "nearby_venues.columns = [col.split(\".\")[-1] for col in nearby_venues.columns]\n",
    "\n",
    "nearby_venues.head(12)"
   ]
  },
  {
   "cell_type": "code",
   "execution_count": 27,
   "metadata": {},
   "outputs": [],
   "source": [
    "def getNearbyVenues(names, latitudes, longitudes, radius=500):\n",
    "    \n",
    "    venues_list=[]\n",
    "    for name, lat, lng in zip(names, latitudes, longitudes):\n",
    "        print(name)\n",
    "            \n",
    "        # create the API request URL\n",
    "        url = 'https://api.foursquare.com/v2/venues/explore?&client_id={}&client_secret={}&v={}&ll={},{}&radius={}&limit={}'.format(\n",
    "            CLIENT_ID, \n",
    "            CLIENT_SECRET, \n",
    "            VERSION, \n",
    "            lat, \n",
    "            lng, \n",
    "            radius, \n",
    "            LIMIT)\n",
    "            \n",
    "        # make the GET request\n",
    "        results = requests.get(url).json()[\"response\"]['groups'][0]['items']\n",
    "        \n",
    "        # return only relevant information for each nearby venue\n",
    "        venues_list.append([(\n",
    "            name, \n",
    "            lat, \n",
    "            lng, \n",
    "            v['venue']['name'], \n",
    "            v['venue']['location']['lat'], \n",
    "            v['venue']['location']['lng'],  \n",
    "            v['venue']['categories'][0]['name']) for v in results])\n",
    "\n",
    "    nearby_venues = pd.DataFrame([item for venue_list in venues_list for item in venue_list])\n",
    "    nearby_venues.columns = ['Neighborhood', \n",
    "                  'Neighborhood Latitude', \n",
    "                  'Neighborhood Longitude', \n",
    "                  'Venue', \n",
    "                  'Venue Latitude', \n",
    "                  'Venue Longitude', \n",
    "                  'Venue Category']\n",
    "    \n",
    "    return(nearby_venues)"
   ]
  },
  {
   "cell_type": "code",
   "execution_count": 28,
   "metadata": {},
   "outputs": [
    {
     "name": "stdout",
     "output_type": "stream",
     "text": [
      "Rouge, Malvern\n",
      "Highland Creek, Rouge Hill, Port Union\n",
      "Guildwood, Morningside, West Hill\n",
      "Woburn\n",
      "Cedarbrae\n",
      "Scarborough Village\n",
      "East Birchmount Park, Ionview, Kennedy Park\n",
      "Clairlea, Golden Mile, Oakridge\n",
      "Cliffcrest, Cliffside, Scarborough Village West\n",
      "Birch Cliff, Cliffside West\n",
      "Dorset Park, Scarborough Town Centre, Wexford Heights\n",
      "Maryvale, Wexford\n",
      "Agincourt\n",
      "Clarks Corners, Sullivan, Tam O'Shanter\n",
      "Agincourt North, L'Amoreaux East, Milliken, Steeles East\n",
      "L'Amoreaux West\n",
      "Upper Rouge\n"
     ]
    }
   ],
   "source": [
    "scarborough_venues = getNearbyVenues(names=scarborough_data['Neighborhood'],\n",
    "                                   latitudes=scarborough_data['Latitude'],\n",
    "                                   longitudes=scarborough_data['Longitude']\n",
    "                                  )"
   ]
  },
  {
   "cell_type": "code",
   "execution_count": 29,
   "metadata": {},
   "outputs": [
    {
     "name": "stdout",
     "output_type": "stream",
     "text": [
      "                                                    Neighborhood Latitude  \\\n",
      "Neighborhood                                                                \n",
      "Agincourt                                                              13   \n",
      "Agincourt North, L'Amoreaux East, Milliken, Ste...                      2   \n",
      "Birch Cliff, Cliffside West                                             6   \n",
      "Cedarbrae                                                               2   \n",
      "\n",
      "                                                    Neighborhood Longitude  \\\n",
      "Neighborhood                                                                 \n",
      "Agincourt                                                               13   \n",
      "Agincourt North, L'Amoreaux East, Milliken, Ste...                       2   \n",
      "Birch Cliff, Cliffside West                                              6   \n",
      "Cedarbrae                                                                2   \n",
      "\n",
      "                                                    Venue  Venue Latitude  \\\n",
      "Neighborhood                                                                \n",
      "Agincourt                                              13              13   \n",
      "Agincourt North, L'Amoreaux East, Milliken, Ste...      2               2   \n",
      "Birch Cliff, Cliffside West                             6               6   \n",
      "Cedarbrae                                               2               2   \n",
      "\n",
      "                                                    Venue Longitude  \\\n",
      "Neighborhood                                                          \n",
      "Agincourt                                                        13   \n",
      "Agincourt North, L'Amoreaux East, Milliken, Ste...                2   \n",
      "Birch Cliff, Cliffside West                                       6   \n",
      "Cedarbrae                                                         2   \n",
      "\n",
      "                                                    Venue Category  \n",
      "Neighborhood                                                        \n",
      "Agincourt                                                       13  \n",
      "Agincourt North, L'Amoreaux East, Milliken, Ste...               2  \n",
      "Birch Cliff, Cliffside West                                      6  \n",
      "Cedarbrae                                                        2  \n"
     ]
    }
   ],
   "source": [
    "\n",
    "scarborough_venues.head(3)\n",
    "print(scarborough_venues.groupby('Neighborhood').count()[:4])"
   ]
  },
  {
   "cell_type": "code",
   "execution_count": 30,
   "metadata": {},
   "outputs": [],
   "source": [
    "\n",
    "# one hot encoding\n",
    "scarb_onehot = pd.get_dummies(scarborough_venues[['Venue Category']], prefix=\"\", prefix_sep=\"\")\n",
    "\n",
    "# add neighborhood column back to dataframe\n",
    "scarb_onehot['Neighborhood'] = scarborough_venues['Neighborhood'] \n",
    "\n",
    "# move neighborhood column to the first column\n",
    "fixed_columns = [scarb_onehot.columns[-1]] + list(scarb_onehot.columns[:-1])\n",
    "scarb_onehot = scarb_onehot[fixed_columns]\n",
    "\n",
    "scarb_grouped = scarb_onehot.groupby('Neighborhood').mean().reset_index()"
   ]
  },
  {
   "cell_type": "code",
   "execution_count": 31,
   "metadata": {},
   "outputs": [],
   "source": [
    "def return_most_common_venues(row, num_top_venues):\n",
    "    row_categories = row.iloc[1:]\n",
    "    row_categories_sorted = row_categories.sort_values(ascending=False)\n",
    "    \n",
    "    return row_categories_sorted.index.values[0:num_top_venues]"
   ]
  },
  {
   "cell_type": "code",
   "execution_count": 32,
   "metadata": {},
   "outputs": [],
   "source": [
    "\n",
    "num_top_venues = 10\n",
    "\n",
    "indicators = ['st', 'nd', 'rd']\n",
    "\n",
    "# create columns according to number of top venues\n",
    "columns = ['Neighborhood']\n",
    "for ind in np.arange(num_top_venues):\n",
    "    try:\n",
    "        columns.append('{}{} Most Common Venue'.format(ind+1, indicators[ind]))\n",
    "    except:\n",
    "        columns.append('{}th Most Common Venue'.format(ind+1))\n",
    "\n",
    "# create a new dataframe\n",
    "neighborhoods_venues_sorted = pd.DataFrame(columns=columns)\n",
    "neighborhoods_venues_sorted['Neighborhood'] = scarb_grouped['Neighborhood']\n",
    "\n",
    "for ind in np.arange(scarb_grouped.shape[0]):\n",
    "    neighborhoods_venues_sorted.iloc[ind, 1:] = return_most_common_venues(scarb_grouped.iloc[ind, :], num_top_venues)"
   ]
  },
  {
   "cell_type": "code",
   "execution_count": 33,
   "metadata": {},
   "outputs": [
    {
     "data": {
      "text/plain": [
       "array([0, 2, 0, 4, 0, 0, 0, 0, 0, 0], dtype=int32)"
      ]
     },
     "execution_count": 33,
     "metadata": {},
     "output_type": "execute_result"
    }
   ],
   "source": [
    "\n",
    "scarb_data = scarborough_data.drop(16)\n",
    "# set number of clusters\n",
    "kclusters = 5\n",
    "\n",
    "scarb_grouped_clustering = scarb_grouped.drop('Neighborhood', 1)\n",
    "\n",
    "# run k-means clustering\n",
    "kmeans = KMeans(n_clusters=kclusters, random_state=0).fit(scarb_grouped_clustering)\n",
    "\n",
    "# check cluster labels generated for each row in the dataframe\n",
    "kmeans.labels_[0:10]"
   ]
  },
  {
   "cell_type": "code",
   "execution_count": 34,
   "metadata": {},
   "outputs": [],
   "source": [
    "\n",
    "scarb_merged = scarb_data\n",
    "\n",
    "# add clustering labels\n",
    "scarb_merged['Cluster Labels'] = kmeans.labels_\n",
    "\n",
    "# merge toronto_grouped with toronto_data to add latitude/longitude for each neighborhood\n",
    "scarb_merged = scarb_merged.join(neighborhoods_venues_sorted.set_index('Neighborhood'), on='Neighborhood')"
   ]
  },
  {
   "cell_type": "code",
   "execution_count": 36,
   "metadata": {},
   "outputs": [
    {
     "data": {
      "text/html": [
       "<div style=\"width:100%;\"><div style=\"position:relative;width:100%;height:0;padding-bottom:60%;\"><iframe src=\"data:text/html;charset=utf-8;base64,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\" style=\"position:absolute;width:100%;height:100%;left:0;top:0;border:none !important;\" allowfullscreen webkitallowfullscreen mozallowfullscreen></iframe></div></div>"
      ],
      "text/plain": [
       "<folium.folium.Map at 0x7f3360727748>"
      ]
     },
     "execution_count": 36,
     "metadata": {},
     "output_type": "execute_result"
    }
   ],
   "source": [
    "map_clusters = folium.Map(location=[latitude, longitude], zoom_start=11)\n",
    "\n",
    "# set color scheme for the clusters\n",
    "x = np.arange(kclusters)\n",
    "ys = [i+x+(i*x)**2 for i in range(kclusters)]\n",
    "colors_array = cm.rainbow(np.linspace(0, 1, len(ys)))\n",
    "rainbow = [colors.rgb2hex(i) for i in colors_array]\n",
    "\n",
    "# add markers to the map\n",
    "markers_colors = []\n",
    "for lat, lon, poi, cluster in zip(scarb_merged['Latitude'], scarb_merged['Longitude'], scarb_merged['Neighborhood'], scarb_merged['Cluster Labels']):\n",
    "    label = folium.Popup(str(poi) + ' Cluster ' + str(cluster), parse_html=True)\n",
    "    folium.CircleMarker(\n",
    "        [lat, lon],\n",
    "        radius=5,\n",
    "        popup=label,\n",
    "        color=rainbow[cluster-1],\n",
    "        fill=True,\n",
    "        fill_color=rainbow[cluster-1],\n",
    "        fill_opacity=0.7).add_to(map_clusters)\n",
    "       \n",
    "map_clusters\n",
    "\n"
   ]
  },
  {
   "cell_type": "code",
   "execution_count": null,
   "metadata": {},
   "outputs": [],
   "source": []
  }
 ],
 "metadata": {
  "kernelspec": {
   "display_name": "Python 3.5",
   "language": "python",
   "name": "python3"
  },
  "language_info": {
   "codemirror_mode": {
    "name": "ipython",
    "version": 3
   },
   "file_extension": ".py",
   "mimetype": "text/x-python",
   "name": "python",
   "nbconvert_exporter": "python",
   "pygments_lexer": "ipython3",
   "version": "3.5.5"
  }
 },
 "nbformat": 4,
 "nbformat_minor": 1
}
